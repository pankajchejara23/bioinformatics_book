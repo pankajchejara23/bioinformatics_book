{
 "cells": [
  {
   "cell_type": "raw",
   "id": "dc2e2013",
   "metadata": {},
   "source": [
    "---\n",
    "format:\n",
    "  html:\n",
    "    code-block-background: true\n",
    "    code-block-bg: true\n",
    "    code-block-border-left: \"#31BAE9\"\n",
    "---"
   ]
  },
  {
   "cell_type": "markdown",
   "id": "5042d3f7",
   "metadata": {},
   "source": [
    "# Remove decontaminated genome\n",
    "In this step, we will remove human genomes from our raw sequences to ensure a high-quality analysis of gut microbiome. For this task, we will use `bowtie2` tool.\n",
    "\n",
    "The removal of human genome is a multi-step process. These steps are given below\n",
    "\n",
    "## Download human genome index files for bowtie\n",
    "The first step is to download bowtie2 indices for human genomes. There are multiple human genomes indices are available [here](https://benlangmead.github.io/aws-indexes/bowtie). For this tutorial, we will use `hg19` human genome [@thomas2019metagenomic].\n",
    "\n",
    "The command below download the genome zipped file and extract human genome indices.\n",
    "\n",
    "```{.bash}\n",
    "\n",
    "wget https://genome-idx.s3.amazonaws.com/bt/hg19.zip\n",
    "unzip hg19.zip\n",
    "\n",
    "```\n",
    "\n",
    "## Remove human genome\n",
    "This step consisting of three tasks: \n",
    "\n",
    "1. **Aligning raw sequences to human genomes**,\n",
    "2. **Removing mapped sequences**\n",
    "3. **Converting resultant files back to fastq format**.\n",
    "\n",
    "The **first task** is executed by the following command\n",
    "\n",
    "```{.bash}\n",
    "bowtie2 -x hg19/hg19  -1 reads_1.fastq.gz -2 reads_2.fastq.gz -S mapped.sam --very-sensitive\n",
    "\n",
    "```\n",
    "\n",
    "The **second task**, which remove mapped sequences, is performed by the following command.\n",
    "\n",
    "```{.bash}\n",
    "\n",
    "# Convert sam file into bam file\n",
    "samtools view -Sb mapped.sam > mapped.bam\n",
    "\n",
    "# Extract unmapped sequences\n",
    "samtools view -b -f 12 -F 256 mapped.bam > unmapped.bam\n",
    "\n",
    "```\n",
    "\n",
    "The **third task** is executed by the following command\n",
    "\n",
    "```{.bash}\n",
    "# Convert bam file back to fastq format\n",
    "samtools fastq unmapped.bam -1 unmapped_1.fastq -2 unmapped_2.fastq -0 unmapped_singletons.fastq\n",
    "\n",
    "```\n",
    "\n",
    "# References {.unnumbered}"
   ]
  },
  {
   "cell_type": "markdown",
   "id": "f3969c73-c780-4be0-81a3-e2df59c1f8c4",
   "metadata": {},
   "source": []
  }
 ],
 "metadata": {
  "kernelspec": {
   "display_name": "Python 3 (ipykernel)",
   "language": "python",
   "name": "python3"
  },
  "language_info": {
   "codemirror_mode": {
    "name": "ipython",
    "version": 3
   },
   "file_extension": ".py",
   "mimetype": "text/x-python",
   "name": "python",
   "nbconvert_exporter": "python",
   "pygments_lexer": "ipython3",
   "version": "3.12.4"
  }
 },
 "nbformat": 4,
 "nbformat_minor": 5
}
