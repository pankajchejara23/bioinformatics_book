{
 "cells": [
  {
   "cell_type": "raw",
   "id": "dc2e2013",
   "metadata": {},
   "source": [
    "---\n",
    "format:\n",
    "  html:\n",
    "    code-block-background: true\n",
    "    code-block-bg: true\n",
    "    code-block-border-left: \"#31BAE9\"\n",
    "---"
   ]
  },
  {
   "cell_type": "markdown",
   "id": "5042d3f7",
   "metadata": {},
   "source": [
    "# Feature transformation\n",
    "After filtering species on abundance criterion, we will now transform the data using a log-transformation. We will use the same transformational function that is used in @zeller2014potential. The transformational function is given in @eq-trans. \n",
    "\n",
    "$$ log_{10}(x + x_0)$${#eq-trans}\n",
    "\n",
    "Here\n",
    "\n",
    "$x$ is a relative abundance value\n",
    "\n",
    "$x_0$ is a small constant (1e-6)"
   ]
  },
  {
   "cell_type": "markdown",
   "id": "1b701b1a",
   "metadata": {},
   "source": [
    "We will apply this transformation on filtered species. The code below perform that step."
   ]
  },
  {
   "cell_type": "code",
   "execution_count": 2,
   "id": "b1195253",
   "metadata": {},
   "outputs": [],
   "source": [
    "#| echo: false\n",
    "\n",
    "import pandas as pd\n",
    "\n",
    "# loading tab-seperated data file using pandas and transposing it\n",
    "data = pd.read_csv('Nine_CRC_cohorts_taxon_profiles.tsv',sep='\\t',header=None).T\n",
    "\n",
    "# setting the first row as column names and then removing it\n",
    "data = data.rename(columns=data.loc[0]).drop(0, axis=0)\n",
    "\n",
    "# accessing Zeller et al., 2014 dataset\n",
    "zeller_db = data.loc[data['dataset_name'] == 'ZellerG_2014',:]\n",
    "\n",
    "# fetching microbacterial organism information-related columns\n",
    "bacteria_colnames = [col for col in data.columns if 'k__Bacteria' in col]\n",
    "\n",
    "# metadata colnames\n",
    "metadata_colnames = ['dataset_name', 'sampleID', 'subjectID', 'body_site', 'study_condition',\n",
    "                     'disease', 'age', 'age_category', 'gender', 'country','ajcc','alcohol',\n",
    "                     'antibiotics_current_use','curator','disease_subtype','ever_smoke','fobt',\n",
    "                     'hba1c','hdl','ldl','location','BMI']\n",
    "\n",
    "\n",
    "import matplotlib.pyplot as plt\n",
    "\n",
    "# dataset containing only bacterial microoganism's relative abundace\n",
    "microbiome = zeller_db[bacteria_colnames]\n",
    "\n",
    "# converting data types\n",
    "for col in microbiome:\n",
    "    microbiome.loc[:,col] = pd.to_numeric(microbiome[col], errors='coerce')\n",
    "\n",
    "# fetching names of columns with abundance exceeding .001\n",
    "columns_to_fetch = microbiome.columns[microbiome.max(axis=0) > 0.001]\n",
    "\n",
    "# filtered dataset\n",
    "microbiome_filtered = microbiome[columns_to_fetch]\n"
   ]
  },
  {
   "cell_type": "code",
   "execution_count": 4,
   "id": "47f7e2b7",
   "metadata": {},
   "outputs": [],
   "source": [
    "import numpy as np\n",
    "\n",
    "# log transformation\n",
    "microbiome_log = microbiome_filtered.applymap(lambda x: np.log10(x+.000001))"
   ]
  },
  {
   "cell_type": "markdown",
   "id": "547d518e",
   "metadata": {},
   "source": [
    "## References"
   ]
  },
  {
   "cell_type": "code",
   "execution_count": null,
   "id": "3f4c0005",
   "metadata": {},
   "outputs": [],
   "source": []
  }
 ],
 "metadata": {
  "kernelspec": {
   "display_name": "Python 3 (ipykernel)",
   "language": "python",
   "name": "python3"
  },
  "language_info": {
   "codemirror_mode": {
    "name": "ipython",
    "version": 3
   },
   "file_extension": ".py",
   "mimetype": "text/x-python",
   "name": "python",
   "nbconvert_exporter": "python",
   "pygments_lexer": "ipython3",
   "version": "3.11.5"
  }
 },
 "nbformat": 4,
 "nbformat_minor": 5
}
