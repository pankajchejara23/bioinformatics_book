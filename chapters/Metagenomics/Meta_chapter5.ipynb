{
 "cells": [
  {
   "cell_type": "raw",
   "id": "dc2e2013",
   "metadata": {},
   "source": [
    "---\n",
    "format:\n",
    "  html:\n",
    "    code-block-background: true\n",
    "    code-block-bg: true\n",
    "    code-block-border-left: \"#31BAE9\"\n",
    "---"
   ]
  },
  {
   "cell_type": "markdown",
   "id": "5042d3f7",
   "metadata": {},
   "source": [
    "# Functional Profiling\n",
    "This step determines metabolic pathways of present microbial commnuties in gut microbiome. \n",
    "todo:read about metabolic pathways of gut microbial communities.\n",
    "\n",
    "We will employ **HUMAnN2** [@humann2] for generating functional annotation of metagenomic data. This step utilises functional gene databases such as KEGG (Kyoto Encycolpedia of Genes and Genomes). The command below shows syntax for using HUMAnN2 for the task.\n",
    "\n",
    "\n",
    "```{.bash}\n",
    "humann2 --input <input_file.fasta> --output <output_directory> --nucleotide-database /path/to/database\n",
    "```\n",
    "\n",
    "\n",
    "## References {.unnumbered}"
   ]
  },
  {
   "cell_type": "markdown",
   "id": "f3969c73-c780-4be0-81a3-e2df59c1f8c4",
   "metadata": {},
   "source": []
  }
 ],
 "metadata": {
  "kernelspec": {
   "display_name": "Python 3 (ipykernel)",
   "language": "python",
   "name": "python3"
  },
  "language_info": {
   "codemirror_mode": {
    "name": "ipython",
    "version": 3
   },
   "file_extension": ".py",
   "mimetype": "text/x-python",
   "name": "python",
   "nbconvert_exporter": "python",
   "pygments_lexer": "ipython3",
   "version": "3.12.4"
  }
 },
 "nbformat": 4,
 "nbformat_minor": 5
}
