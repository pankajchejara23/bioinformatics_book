{
 "cells": [
  {
   "cell_type": "raw",
   "id": "dc2e2013",
   "metadata": {},
   "source": [
    "---\n",
    "format:\n",
    "  html:\n",
    "    code-block-background: true\n",
    "    code-block-bg: true\n",
    "    code-block-border-left: \"#31BAE9\"\n",
    "---"
   ]
  },
  {
   "cell_type": "markdown",
   "id": "68513da7",
   "metadata": {},
   "source": [
    "## Reference database\n"
   ]
  },
  {
   "cell_type": "markdown",
   "id": "d4b989a7",
   "metadata": {},
   "source": [
    "We will first setup our reference database in QIIME2 (version 2024.10). For that we are going to use **SILVA database** [@silva1;@silva2]. There are other databases as well, such as, Greengenes, RDP.\n",
    "\n",
    "To simplify the process of setting up reference database, we will use an excellent plugin that is **Rescript** [@rescript]. This plugin provides an already built pipeline to download and process different reference databases (read more [here](https://forum.qiime2.org/t/processing-filtering-and-evaluating-the-silva-database-and-other-reference-sequence-data-with-rescript/15494)).\n",
    "\n",
    "## Installing RESCRIPt plugin\n",
    "We will use the following command to install the plugin\n",
    "\n",
    "```{.bash}\n",
    "pip install git+https://github.com/bokulich-lab/RESCRIPt.git\n",
    "```\n",
    "\n",
    "## Preparing SILVA database as reference database\n",
    "We will follow steps provided [here](https://forum.qiime2.org/t/processing-filtering-and-evaluating-the-silva-database-and-other-reference-sequence-data-with-rescript/15494) to download and build SILVA database for use in QIIME. \n",
    "\n",
    "### Step-1: Download SILVA\n",
    "\n",
    "```{.bash}\n",
    "qiime rescript get-silva-data \\\n",
    "    --p-version '138.1' \\\n",
    "    --p-target 'SSURef_NR99' \\\n",
    "    --o-silva-sequences silva-138.1-ssu-nr99-rna-seqs.qza \\\n",
    "    --o-silva-taxonomy silva-138.1-ssu-nr99-tax.qza\n",
    "```\n",
    "\n",
    ":::{.callout-warning}\n",
    "\n",
    "# RESCRIPt error\n",
    "RESCRIPt plugin works well for some QIIME versions. In case if you encounter the problem of `cannot import name 'DNASequence' from 'q2_types.genome_data'` then refer to [this page](https://forum.qiime2.org/t/rescript-says-it-installed-but-i-cannot-use-it/27955/3) for detailed instructions to resolve the issue. The same steps are also provided below.\n",
    "\n",
    "We will **create an additional conda environment and install required packages** to allow rescript to function properly.\n",
    "\n",
    "```{.bash}\n",
    "conda install -c conda-forge -c bioconda -c qiime2 \\\n",
    "-c https://packages.qiime2.org/qiime2/2023.9/shotgun/released/  \\\n",
    "-c defaults   xmltodict 'q2-types-genomics>2023.5' ncbi-datasets-pylib\n",
    "\n",
    "pip install git+https://github.com/bokulich-lab/RESCRIPt.git\n",
    "\n",
    "qiime dev refresh-cache\n",
    "\n",
    "qiime rescript --help\n",
    "```\n",
    "\n",
    "\n",
    ":::\n",
    "\n",
    "### Step-2: Converting rna sequences to dna sequences\n",
    "The resultant sequences from the above step are of 'RNASequences' data type. To ensure a smooth downstream analysis, we will convert data type to 'DNASequences' using the following command. \n",
    "```{.bash}\n",
    "qiime rescript reverse-transcribe \\\n",
    "    --i-rna-sequences silva-138.1-ssu-nr99-rna-seqs.qza \\\n",
    "    --o-dna-sequences silva-138.1-ssu-nr99-seqs.qza\n",
    "\n",
    "```"
   ]
  },
  {
   "cell_type": "markdown",
   "id": "865536c8",
   "metadata": {},
   "source": [
    "The resultant qiime artifact `silva-138.1-ssu-nr99-seqs.qza` now can be used to train a classifier. Additional steps could also be integrated in the process before building the classifier. Such as **cutting low quality sequences**, **filtering based on length**, etc. \n",
    "\n",
    "The [link](https://forum.qiime2.org/t/processing-filtering-and-evaluating-the-silva-database-and-other-reference-sequence-data-with-rescript/15494) provides some of those examples and command to do that using `RESCRIPt` plugin."
   ]
  },
  {
   "cell_type": "markdown",
   "id": "6ffe4d84",
   "metadata": {},
   "source": [
    "## Building a taxonomy classifer\n",
    "Now we will move to train a taxonomy classifier which we are going to use later in our analysis to assign taxonomy labels to sequence data. Before doing that we will select V4 region from the SILVA database and use that extracted database for training our classifier. \n",
    "\n",
    "This step of extracting V4 regions has been found to improve the performance.\n",
    "\n",
    "\n",
    "\n",
    "### Extract V4 region\n",
    "\n",
    "This step extract the 16S region from the database using provided primers. \n",
    "\n",
    ":::{.callout-tip}\n",
    "It is recommeded to use the same primers used in the 16S extraction process of dataset under study.\n",
    ":::\n",
    "\n",
    "```{.bash}\n",
    "qiime feature-classifier extract-reads \\\n",
    "    --i-sequences silva-138.1-ssu-nr99-seqs.qza \\\n",
    "    --p-f-primer GTGYCAGCMGCCGCGGTAA \\\n",
    "    --p-r-primer GGACTACNVGGGTWTCTAAT \\\n",
    "    --p-n-jobs 2 \\\n",
    "    --p-read-orientation 'forward' \\\n",
    "    --o-reads silva-138.1-ssu-nr99-seqs-515f-806r.qza\n",
    "```\n",
    "\n",
    "### Train the classifier\n",
    "\n",
    "This step use a Naive-Bayes classifier and trains it on the extracted data from the previous step. The resultant classifier is stored as Qiime2 artifact which can be readily used for classification tasks using Qiime2.\n",
    "```{.bash}\n",
    "qiime feature-classifier fit-classifier-naive-bayes \\\n",
    "  --i-reference-reads silva-138.1-ssu-nr99-seqs-515f-806r.qza \\\n",
    "  --i-reference-taxonomy silva-138.1-ssu-nr99-tax.qza \\\n",
    "  --o-classifier silva_classifier.qza\n",
    "```"
   ]
  },
  {
   "cell_type": "markdown",
   "id": "3fbd32d9",
   "metadata": {},
   "source": [
    "# References {.unnumbered}"
   ]
  }
 ],
 "metadata": {
  "kernelspec": {
   "display_name": "Python 3 (ipykernel)",
   "language": "python",
   "name": "python3"
  },
  "language_info": {
   "codemirror_mode": {
    "name": "ipython",
    "version": 3
   },
   "file_extension": ".py",
   "mimetype": "text/x-python",
   "name": "python",
   "nbconvert_exporter": "python",
   "pygments_lexer": "ipython3",
   "version": "3.11.5"
  }
 },
 "nbformat": 4,
 "nbformat_minor": 5
}
