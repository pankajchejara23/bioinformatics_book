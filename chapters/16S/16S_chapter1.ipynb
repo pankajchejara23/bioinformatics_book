{
 "cells": [
  {
   "cell_type": "raw",
   "id": "dc2e2013",
   "metadata": {},
   "source": [
    "---\n",
    "format:\n",
    "  html:\n",
    "    code-block-background: true\n",
    "    code-block-bg: true\n",
    "    code-block-border-left: \"#31BAE9\"\n",
    "---"
   ]
  },
  {
   "cell_type": "markdown",
   "id": "5042d3f7",
   "metadata": {},
   "source": [
    "# Quality control\n",
    "The first step in the process is to learn about the quality of sequence reads. As Fastq files contains a quality score per base which indicates the level of accuracy for a particular base read. Our goal in the first step is to check is there something abnormal with the quality scores, e.g., do quality degrades after a particular read position.\n",
    "\n",
    "Thankfully, we have tools which can automate this lookup process for us. The first tool is `Fastqc` which scans each sequence read file and then generate a report per file, providing essential information on many quality aspects of sequence data.\n",
    "\n",
    "Now imagine going through each generated file to come up with some sort of understanding of the overall quality of datasets. It could be an exhausting task. Thanks again to the bioinformatics field, we have another tool `Multiqc` which summarizes multiple report files into a single report summary which makes it easier to determine the quality of sequence reads. \n"
   ]
  },
  {
   "cell_type": "markdown",
   "id": "60f28627",
   "metadata": {},
   "source": [
    "## Generating quality report using fastqc\n",
    "The fastqc command has the following syntax\n",
    "\n",
    "```{.bash}\n",
    "fastqc  -o ./fastqc_results -t 10 ./raw_data/*.fastq.gz\n",
    "``` \n",
    "\n",
    "Here, **-o** flag specifies output directory, and **-t** flag specifies number of threads to process the files."
   ]
  },
  {
   "cell_type": "markdown",
   "id": "358c9e7c",
   "metadata": {},
   "source": [
    "## Summarizing all quality reports using multiqc\n",
    "\n",
    "The following command runs `multiqc` and generate a summary report of fastqc reports.\n",
    "\n",
    "```{.bash}\n",
    "multiqc ./fastqc_results -o ./multiqc_results\n",
    "```"
   ]
  },
  {
   "cell_type": "markdown",
   "id": "6499baf5",
   "metadata": {},
   "source": [
    "## Applying trimmomatic\n",
    "Now, we will use insights gained from multiqc report to determine some parameters such as minimum length of sequences. These parameters then we will pass in the `trimmomatic` command.\n",
    "\n",
    "```{.bash}\n",
    "trimmomatic -PE ADenoma12-2799_S12_L001_R1_001.fastq.gz ADenoma12-2799_S12_L001_R2_001.fastq.gz -baseout Ademona1-2065_trimmed_S1.fastq.gz CROP:150\n",
    "```\n",
    "\n",
    ":::  {.callout-tip}\n",
    "Similar command as above must be run for each paired (or single) end sequences file. To automate this, we can use a shell script.\n",
    ":::\n",
    "\n",
    "```{.bash}\n",
    "#!/usr/bin/env bash\n",
    "# author: pankaj chejara\n",
    "# Script to iterate over paired read sequences to apply trimmomatic\n",
    "\n",
    "samples=()\n",
    "\n",
    "for filename in ./raw_data/*.fastq.gz; do\n",
    "    base=$(basename \"$filename\" .fastq.gz)\n",
    "    nf=$(echo $base | sed -e 's/.......$//');\n",
    "    if ! [[ ${samples[@]} =~ $nf ]]\n",
    "    then\n",
    "      samples+=(\"$nf\");\n",
    "    fi\n",
    "  done\n",
    "\n",
    "for sample in \"${samples[@]}\"; do\n",
    "  forward=\"./raw_data/${sample}_R1_001.fastq.gz\"\n",
    "  backward=\"./raw_data/${sample}_R2_001.fastq.gz\"\n",
    "  baseout=\"./trimm_outputs/${sample}.fastq.gz\"\n",
    "  trimmomatic PE -threads 20 $forward $backward -baseout $baseout CROP:200\"\n",
    "done;\n",
    "```"
   ]
  },
  {
   "cell_type": "markdown",
   "id": "2c3b5586",
   "metadata": {},
   "source": [
    "# References {.unnumbered}"
   ]
  }
 ],
 "metadata": {
  "kernelspec": {
   "display_name": "Python 3 (ipykernel)",
   "language": "python",
   "name": "python3"
  },
  "language_info": {
   "codemirror_mode": {
    "name": "ipython",
    "version": 3
   },
   "file_extension": ".py",
   "mimetype": "text/x-python",
   "name": "python",
   "nbconvert_exporter": "python",
   "pygments_lexer": "ipython3",
   "version": "3.11.5"
  }
 },
 "nbformat": 4,
 "nbformat_minor": 5
}
