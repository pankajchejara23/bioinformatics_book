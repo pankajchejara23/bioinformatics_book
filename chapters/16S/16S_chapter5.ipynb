{
 "cells": [
  {
   "cell_type": "raw",
   "id": "dc2e2013",
   "metadata": {},
   "source": [
    "---\n",
    "format:\n",
    "  html:\n",
    "    code-block-background: true\n",
    "    code-block-bg: true\n",
    "    code-block-border-left: \"#31BAE9\"\n",
    "---"
   ]
  },
  {
   "cell_type": "markdown",
   "id": "5042d3f7",
   "metadata": {},
   "source": [
    "# OTUs\n",
    "\n",
    "\n",
    "This step generates Operational Taxonomic Units (OTUs). The following steps are executed to extract OTUs.\n",
    "\n",
    "1. Merging paired-end read sequences\n",
    "2. Filtering merged sequences using quality scores\n",
    "3. Dereplicating merged sequences\n",
    "4. Clustering sequences\n",
    "5. Chimera removal\n",
    "6. Taxonomic classification\n",
    "\n",
    "## Merging paired-end read sequences\n",
    "As the first step, we will merge forward and backward read sequences into one. The resultant sequences will be used for next steps.\n",
    "\n",
    "```{.bash}\n",
    "qiime vsearch merge-pairs \\\n",
    "--i-demultiplexed-seqs paired-end-demux-trimmed.qza \\\n",
    "--o-merged-sequences demux-joined.qza \\\n",
    "--o-unmerged-sequences demux-unjoined.qza\n",
    "\n",
    "```"
   ]
  },
  {
   "cell_type": "markdown",
   "id": "8024154a",
   "metadata": {},
   "source": [
    "## Filtering merged sequences using quality scores\n",
    "Now we will use merged pairs and apply quality filtering.\n",
    "\n",
    "```{.bash}\n",
    "qiime quality-filter q-score \\\n",
    "–-i-demux demux-joined.qza \\\n",
    "--p-min-quality 20 \\\n",
    "–-o-filtered-sequences demux-joined-filtered.qza\n",
    "–-o-filter-stats demux-joined-filter-stats.qza\n",
    "```\n"
   ]
  },
  {
   "cell_type": "markdown",
   "id": "0a294440",
   "metadata": {},
   "source": [
    "## Dereplicating merged sequences\n",
    "This step identify duplicate sequences and remove them. This step reduces final sequences for clustering. \n",
    "\n",
    "```{.bash}\n",
    "qiime vsearch dereplicate-sequences \\\n",
    "        --i-sequences demux-joined-filtered.qza \\\n",
    "        --o-dereplicated-table derep-joined-filtered_table.qza \\\n",
    "        --o-dereplicated-sequences derep-joined-filtered_seqs.qza\n",
    "\n",
    "```"
   ]
  },
  {
   "cell_type": "markdown",
   "id": "aba27e36",
   "metadata": {},
   "source": [
    "## Clustering sequences\n",
    "\n",
    "\n",
    "```{.bash}\n",
    "qiime vsearch cluster-features-de-novo \\\n",
    "        --i-table derep-joined-filtered_table.qza \\\n",
    "        --i-sequences derep-joined-filtered_seqs.qza \\\n",
    "        --p-perc-identity .97 \\\n",
    "        --o-clustered-table cluster-table.qza \\\n",
    "        --o-clustered-sequences cluster-seqs.qza  \\\n",
    "        --p-threads 8\n",
    "```"
   ]
  },
  {
   "cell_type": "markdown",
   "id": "6b974f1b",
   "metadata": {},
   "source": [
    "## Chimera removal\n",
    "\n",
    "```{.bash}\n",
    "qiime vsearch uchime-ref \\\n",
    "\t--i-table cluster-table.qza \\\n",
    "\t--i-sequences  cluster-seqs.qza \\\n",
    "\t--i-reference-sequences silva-138.1-ssu-nr99-seqs-515f-806r.qza \\\n",
    "\t--p-threads 4 \\\n",
    "\t--o-chimeras chimeras.qza \\\n",
    "    --o-nonchimeras non-chimera.qza \\\n",
    "    --o-stats chimera-stats.qza\n",
    "```\n",
    "\n",
    "```{.bash}\n",
    "qiime feature-table filter-features \\\n",
    "\t--i-table cluster-table.qza \\\n",
    "    --m-metadata-file non-chimera.qza \\\n",
    "    --o-filtered-table table-nc.qza\"\n",
    "```\n",
    "\n",
    "```{.bash}\n",
    "qiime feature-table filter-seqs \\\n",
    "    --i-data cluster-seqs.qza \\\n",
    "    --i-table table-nc.qza \\\n",
    "    --o-filtered-data seqs-nc.qza\n",
    "```"
   ]
  },
  {
   "cell_type": "markdown",
   "id": "b1e06824",
   "metadata": {},
   "source": [
    "## Taxonomic classification\n",
    "\n",
    "```{.bash}\n",
    "qiime feature-classifier classify-sklearn \\\n",
    "    --i-classifier silva_classifier.qza \\\n",
    "    --i-reads seqs-nc.qza \\\n",
    "    --o-classification seqs-nc-otus.qza\n",
    "```"
   ]
  },
  {
   "cell_type": "markdown",
   "id": "851b87b6",
   "metadata": {},
   "source": [
    "\n",
    "```"
   ]
  },
  {
   "cell_type": "code",
   "execution_count": null,
   "id": "2c5117ff",
   "metadata": {},
   "outputs": [],
   "source": []
  }
 ],
 "metadata": {
  "kernelspec": {
   "display_name": "Python 3 (ipykernel)",
   "language": "python",
   "name": "python3"
  },
  "language_info": {
   "codemirror_mode": {
    "name": "ipython",
    "version": 3
   },
   "file_extension": ".py",
   "mimetype": "text/x-python",
   "name": "python",
   "nbconvert_exporter": "python",
   "pygments_lexer": "ipython3",
   "version": "3.11.5"
  }
 },
 "nbformat": 4,
 "nbformat_minor": 5
}
