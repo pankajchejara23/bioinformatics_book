{
 "cells": [
  {
   "cell_type": "raw",
   "id": "dc2e2013",
   "metadata": {},
   "source": [
    "---\n",
    "format:\n",
    "  html:\n",
    "    code-block-background: true\n",
    "    code-block-bg: true\n",
    "    code-block-border-left: \"#31BAE9\"\n",
    "---"
   ]
  },
  {
   "cell_type": "markdown",
   "id": "5042d3f7",
   "metadata": {},
   "source": [
    "# OTUs\n",
    "\n",
    "\n",
    "We will now cluster sequences and assign taxonomy.\n",
    "\n",
    "## Merge forward and backward reads\n",
    "As the first step, we will merge forward and backward read sequences into one. The resultant sequences will be used for next steps.\n",
    "\n",
    "```{.bash}\n",
    "qiime vsearch merge-pairs \\\n",
    "--i-demultiplexed-seqs paired-end-demux-trimmed.qza \\\n",
    "--o-merged-sequences demux-joined.qza \\\n",
    "--o-unmerged-sequences demux-unjoined.qza\n",
    "\n",
    "```"
   ]
  },
  {
   "cell_type": "markdown",
   "id": "8024154a",
   "metadata": {},
   "source": [
    "## Quality control of merged sequences\n",
    "Now we will use merged pairs and apply quality filtering.\n",
    "\n",
    "```{.bash}\n",
    "qiime quality-filter q-score \\\n",
    "–-i-demux demux-joined.qza \\\n",
    "--p-min-quality 20 \\\n",
    "–-o-filtered-sequences demux-joined-filtered.qza\n",
    "–-o-filter-stats demux-joined-filter-stats.qza\n",
    "```\n"
   ]
  },
  {
   "cell_type": "markdown",
   "id": "aba27e36",
   "metadata": {},
   "source": [
    "## Denoise using deblur\n",
    "\n",
    "\n",
    "```{.bash}\n",
    "qiime deblur denoise-16S \\\n",
    "  --i-demultiplexed-seqs demux-joined-filtered.qza \\\n",
    "  --p-trim-length 200 \\\n",
    "  --p-sample-stats \\\n",
    "  --o-representative-sequences rep-seqs.qza \\\n",
    "  --o-table de_table.qza \\\n",
    "  --o-stats deblur-stats.qza\n",
    "```"
   ]
  },
  {
   "cell_type": "markdown",
   "id": "e0b555c4",
   "metadata": {},
   "source": [
    "# References\n",
    "\n",
    "1. https://docs.qiime2.org/2024.10/tutorials/read-joining/"
   ]
  },
  {
   "cell_type": "code",
   "execution_count": null,
   "id": "2c5117ff",
   "metadata": {},
   "outputs": [],
   "source": []
  }
 ],
 "metadata": {
  "kernelspec": {
   "display_name": "Python 3 (ipykernel)",
   "language": "python",
   "name": "python3"
  },
  "language_info": {
   "codemirror_mode": {
    "name": "ipython",
    "version": 3
   },
   "file_extension": ".py",
   "mimetype": "text/x-python",
   "name": "python",
   "nbconvert_exporter": "python",
   "pygments_lexer": "ipython3",
   "version": "3.11.5"
  }
 },
 "nbformat": 4,
 "nbformat_minor": 5
}
