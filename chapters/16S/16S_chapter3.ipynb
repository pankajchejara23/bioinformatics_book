{
 "cells": [
  {
   "cell_type": "raw",
   "id": "dc2e2013",
   "metadata": {},
   "source": [
    "---\n",
    "format:\n",
    "  html:\n",
    "    code-block-background: true\n",
    "    code-block-bg: true\n",
    "    code-block-border-left: \"#31BAE9\"\n",
    "---"
   ]
  },
  {
   "cell_type": "markdown",
   "id": "5042d3f7",
   "metadata": {},
   "source": [
    "# Removing primers \n",
    "This step will remove primers from sequence read data. For that we will use QIIME with `cutadapt` plugin.\n",
    "\n",
    "We will use the information from [@zackular] on forward and reverse primer used in sequencing. The following command remove primers from our dataset.\n",
    "\n",
    "\n",
    "```{.bash}\n",
    "qiime cutadapt trim-paired \\\n",
    "--i-demultiplexed-sequences paired-end-demux.qza \\\n",
    "--p-front-f GTGYCAGCMGCCGCGGTAA \\\n",
    "--p-front-r GGACTACNVGGGTWTCTAAT \\\n",
    "--o-trimmed-sequences paired-end-demux-trimmed.qza\"\n",
    "\n",
    "```\n"
   ]
  },
  {
   "cell_type": "markdown",
   "id": "d275195f",
   "metadata": {},
   "source": [
    "# References {.unnumbered}"
   ]
  }
 ],
 "metadata": {
  "kernelspec": {
   "display_name": "Python 3 (ipykernel)",
   "language": "python",
   "name": "python3"
  },
  "language_info": {
   "codemirror_mode": {
    "name": "ipython",
    "version": 3
   },
   "file_extension": ".py",
   "mimetype": "text/x-python",
   "name": "python",
   "nbconvert_exporter": "python",
   "pygments_lexer": "ipython3",
   "version": "3.11.5"
  }
 },
 "nbformat": 4,
 "nbformat_minor": 5
}
