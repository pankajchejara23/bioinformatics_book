{
 "cells": [
  {
   "cell_type": "raw",
   "id": "dc2e2013",
   "metadata": {},
   "source": [
    "---\n",
    "format:\n",
    "  html:\n",
    "    code-block-background: true\n",
    "    code-block-bg: true\n",
    "    code-block-border-left: \"#31BAE9\"\n",
    "---"
   ]
  },
  {
   "cell_type": "markdown",
   "id": "20afef54",
   "metadata": {},
   "source": [
    "# Loading data in QIIME"
   ]
  },
  {
   "cell_type": "markdown",
   "id": "89c7fbf9",
   "metadata": {},
   "source": [
    "Now, we will import our dataset into QIIME2 for further processing. There are different data formats supported by QIIME2 when it comes to importing. So, having a basic knowledge about those formats and their corresponding procedures to import them would be helpful. \n",
    "\n",
    "More information can be accessed [here](https://docs.qiime2.org/2024.10/tutorials/importing/)\n",
    "\n",
    "In our previous step, we applied filtering using trimmomatic tool. This filtering step generated new sequence files with names with suffixes like `1P_L001.fastq.gz`. We we will create a manifest file containing filepath of forward and backward sequence read files.\n",
    "\n",
    "## Create manifest file\n",
    "\n",
    "To automate the generation of manifest file, we will use the following shell script\n",
    "\n",
    "```{.bash filename='create_manifest.sh'}\n",
    "# author: Pankaj chejara\n",
    "# Script to create manifest file for qiime2\n",
    "\n",
    "samples=()\n",
    "\n",
    "for filename in ./raw_files/*.fastq.gz; do\n",
    "    base=$(basename \"$filename\" .fastq.gz)\n",
    "    nf=$(echo $base | sed -e 's/.......$//');\n",
    "    if ! [[ ${samples[@]} =~ $nf ]]\n",
    "    then\n",
    "      samples+=(\"$nf\");\n",
    "    fi\n",
    "  done\n",
    "\n",
    "echo \"sample-id    forward-absolute-filepath    reverse-absolute-filepath\" > manifest.csv\n",
    "\n",
    "for sample in \"${samples[@]}\"; do\n",
    "  forward=\"$PWD/trimm_outputs/${sample}_1P.fastq.gz\"\n",
    "  backward=\"$PWD/trimm_outputs/${sample}_2P.fastq.gz\"\n",
    "  sampleid=$(echo $sample | sed -e 's/_.*//')\n",
    "  echo \"$sampleid    $forward    $backward\" >> manifest.csv\n",
    "  #echo \"$sampleid,$backward,backward\" >> manifest.csv\n",
    "done;\n",
    "\n",
    "```"
   ]
  },
  {
   "cell_type": "markdown",
   "id": "6e6e2e20",
   "metadata": {},
   "source": [
    "This script will generate a manifest file which looks like this\n",
    "\n",
    "|sample-id     |absolute-filepath                                                                                             |direction|\n",
    "|--------------|--------------------------------------------------------------------------------------------------------------|---------|\n",
    "|ADenoma12-2799|/Users/pankaj/Documents/Metrosert/Public dataset/zakular2014/trimm_outputs/ADenoma12-2799_S12_L001_1P.fastq.gz|forward  |\n",
    "|ADenoma12-2799|/Users/pankaj/Documents/Metrosert/Public dataset/zakular2014/trimm_outputs/ADenoma12-2799_S12_L001_2P.fastq.gz|backward |\n",
    "|Ademona1-2065 |/Users/pankaj/Documents/Metrosert/Public dataset/zakular2014/trimm_outputs/Ademona1-2065_S1_L001_1P.fastq.gz  |forward  |\n"
   ]
  },
  {
   "cell_type": "markdown",
   "id": "1d5198b7",
   "metadata": {},
   "source": [
    ":::{.callout-tip}\n",
    "\n",
    "Do not forget to change the directories in the script as per your environment. The script scans `raw_data` directory to fetch all sample ids and then generate manifest file with filepaths (of files obtained after trimmomatic).\n",
    ":::"
   ]
  },
  {
   "cell_type": "markdown",
   "id": "e73cb592",
   "metadata": {},
   "source": [
    "## Import sequences reads in QIIME\n",
    "To import our dataset, we will use the generated manifest file and run the following command.\n",
    "\n",
    "```{.bash}\n",
    "qiime tools import \\\n",
    "  --type 'SampleData[PairedEndSequencesWithQuality]' \\\n",
    "  --input-path manifest.csv \\\n",
    "  --input-format PairedEndFastqManifestPhred33V2 \\\n",
    "  --output-path paired-end-demux.qza\n",
    "```\n",
    "\n",
    "On successful execution of the above command, a new qiime artifact `paired-end-demux.qza` will be generated."
   ]
  }
 ],
 "metadata": {
  "kernelspec": {
   "display_name": "Python 3 (ipykernel)",
   "language": "python",
   "name": "python3"
  },
  "language_info": {
   "codemirror_mode": {
    "name": "ipython",
    "version": 3
   },
   "file_extension": ".py",
   "mimetype": "text/x-python",
   "name": "python",
   "nbconvert_exporter": "python",
   "pygments_lexer": "ipython3",
   "version": "3.11.5"
  }
 },
 "nbformat": 4,
 "nbformat_minor": 5
}
