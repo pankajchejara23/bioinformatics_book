{
 "cells": [
  {
   "cell_type": "raw",
   "id": "dc2e2013",
   "metadata": {},
   "source": [
    "---\n",
    "format:\n",
    "  html:\n",
    "    code-block-background: true\n",
    "    code-block-bg: true\n",
    "    code-block-border-left: \"#31BAE9\"\n",
    "---"
   ]
  },
  {
   "cell_type": "markdown",
   "id": "5042d3f7",
   "metadata": {},
   "source": [
    "# ASVs\n",
    "This step will extract Amplicon Sequence Variants (ASVs) from read sequences. This step involves the following two steps\n",
    "\n",
    "1. **Denoising**: This step perform quality filtering and chimera removing. The results of this step is include a feature table and a frequency count table.\n",
    "\n",
    "2. **Taxonomic classification**: This step assign taxonomic classification to the extracted features. \n",
    "\n",
    "## Denoising\n",
    "\n",
    "This step will denoise our sequence dataset and also remove chimera sequences. We will use **dada2** [@dada2] for denoising.\n",
    "\n",
    "This step performs the following three tasks\n",
    "\n",
    "1. Quality filtering\n",
    "2. Chimera checking\n",
    "3. Paired-end joining\n",
    "\n",
    "```{.bash}\n",
    "qiime dada2 denoise-paired \\\n",
    "  --i-demultiplexed-seqs demultiplexed-sequences.qza \\\n",
    "  --p-trunc-len-f 204 \\\n",
    "  --p-trim-left-r 1 \\\n",
    "  --p-trunc-len-r 205 \\\n",
    "  --o-representative-sequences asv-sequences-0.qza \\\n",
    "  --o-table feature-table-0.qza \\\n",
    "  --o-denoising-stats dada2-stats.qza\n",
    "\n",
    "```\n",
    "\n",
    "We will also generate a summary file to gain insights into the result of the command.\n",
    "\n",
    "```{.bash}\n",
    "qiime metadata tabulate \\\n",
    "  --m-input-file dada2-stats.qza \\\n",
    "  --o-visualization dada2-stats-summ.qzv\n",
    "\n",
    "```\n",
    "\n",
    "\n",
    "## Taxonomic classification\n",
    "\n",
    "```{.bash}\n",
    "qiime feature-classifier classify-sklearn \\\n",
    "    --i-classifier /home/pankaj/reference_db/silva-138.1-ssu-nr99-515f-806r-classifier.qza \\\n",
    "    --i-reads asv-sequences-0.qza\n",
    "    --o-classification rep-seqs-classification.qza\n",
    "```\n",
    "\n",
    "\n",
    "# References {.unnumbered}"
   ]
  },
  {
   "cell_type": "code",
   "execution_count": null,
   "id": "2cd44153",
   "metadata": {},
   "outputs": [],
   "source": []
  }
 ],
 "metadata": {
  "kernelspec": {
   "display_name": "Python 3 (ipykernel)",
   "language": "python",
   "name": "python3"
  },
  "language_info": {
   "codemirror_mode": {
    "name": "ipython",
    "version": 3
   },
   "file_extension": ".py",
   "mimetype": "text/x-python",
   "name": "python",
   "nbconvert_exporter": "python",
   "pygments_lexer": "ipython3",
   "version": "3.11.5"
  }
 },
 "nbformat": 4,
 "nbformat_minor": 5
}
