{
 "cells": [
  {
   "cell_type": "raw",
   "id": "dc2e2013",
   "metadata": {},
   "source": [
    "---\n",
    "format:\n",
    "  html:\n",
    "    code-block-background: true\n",
    "    code-block-bg: true\n",
    "    code-block-border-left: \"#31BAE9\"\n",
    "---"
   ]
  },
  {
   "cell_type": "markdown",
   "id": "5042d3f7",
   "metadata": {},
   "source": [
    "# Taxonomic Profiling\n",
    "In the field of bioinformatics, **taxonomy** is a classification scheme which typically classifies each living organism into a heirarchical order composed of different levels such as domain, kingdom, phylum, etc. (@fig-taxo). This classification facilitates an understanding of micro-organism community structure at different levels, from coarse (e.g., phylum) to refine (e.g., species). \n",
    "\n",
    "![Biological classification (from WikiPedia)](https://upload.wikimedia.org/wikipedia/commons/thumb/a/a5/Biological_classification_L_Pengo_vflip.svg/150px-Biological_classification_L_Pengo_vflip.svg.png){#fig-taxo}\n",
    "\n",
    "Taxonomic profiling predics taxonomic operational units present in the metagenomic sequences at different levels of classification. To perform this task, we will employ **mOTUs** tool [@motus].\n",
    "\n",
    "\n",
    "```{.bash}\n",
    "motus profile --forward <sample_R1.fastq> --reverse <sample_R2.fastq> --output motus_output_dir --db <path_to_mOTUs_database>\n",
    "\n",
    "```\n",
    "\n",
    "Here, `sample_R1.fastq` and `sample_R2.fastq` are forward and backward reads. The results are stored in `motus_output_dir` specified using `-output` flag. The database of marker genes specified by `<path_to_mOTUs_database>`.\n",
    "\n",
    "\n",
    "## References {.unnumbered}"
   ]
  },
  {
   "cell_type": "markdown",
   "id": "f3969c73-c780-4be0-81a3-e2df59c1f8c4",
   "metadata": {},
   "source": []
  }
 ],
 "metadata": {
  "kernelspec": {
   "display_name": "Python 3 (ipykernel)",
   "language": "python",
   "name": "python3"
  },
  "language_info": {
   "codemirror_mode": {
    "name": "ipython",
    "version": 3
   },
   "file_extension": ".py",
   "mimetype": "text/x-python",
   "name": "python",
   "nbconvert_exporter": "python",
   "pygments_lexer": "ipython3",
   "version": "3.12.4"
  }
 },
 "nbformat": 4,
 "nbformat_minor": 5
}
