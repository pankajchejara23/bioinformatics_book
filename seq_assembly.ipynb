{
 "cells": [
  {
   "cell_type": "raw",
   "id": "dc2e2013",
   "metadata": {},
   "source": [
    "---\n",
    "format:\n",
    "  html:\n",
    "    code-block-background: true\n",
    "    code-block-bg: true\n",
    "    code-block-border-left: \"#31BAE9\"\n",
    "---"
   ]
  },
  {
   "cell_type": "markdown",
   "id": "5042d3f7",
   "metadata": {},
   "source": [
    "# Sequence Assembly\n",
    "This step assembles short reads into a longer one for taxonomic and functional profiling. This operation has been found to imrove performance of taxonomic assignment [@assembling_improve]\n",
    "\n",
    "We will employ **MegaHit** tool [@megahit] for assembly. This tool is memory efficient, making it an ideal choice for larger datasets. The following command performs assembly task for a single paired-read sequence.\n",
    "\n",
    "```{.bash}\n",
    "megahit -1 sample_R1.fastq -2 sample_R2.fastq -o megahit_output_dir\n",
    "```\n",
    "\n",
    "Here, `sample_R1.fastq` and `sample_R2.fastq` are forward and backward reads. The results are stored in `megahit_output_dir` specified using `-o` flag.\n",
    "\n",
    "\n",
    "## References {.unnumbered}"
   ]
  },
  {
   "cell_type": "markdown",
   "id": "f3969c73-c780-4be0-81a3-e2df59c1f8c4",
   "metadata": {},
   "source": []
  }
 ],
 "metadata": {
  "kernelspec": {
   "display_name": "Python 3 (ipykernel)",
   "language": "python",
   "name": "python3"
  },
  "language_info": {
   "codemirror_mode": {
    "name": "ipython",
    "version": 3
   },
   "file_extension": ".py",
   "mimetype": "text/x-python",
   "name": "python",
   "nbconvert_exporter": "python",
   "pygments_lexer": "ipython3",
   "version": "3.12.4"
  }
 },
 "nbformat": 4,
 "nbformat_minor": 5
}
